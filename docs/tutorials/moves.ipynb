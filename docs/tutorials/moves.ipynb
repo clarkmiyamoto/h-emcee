{
 "cells": [
  {
   "cell_type": "markdown",
   "id": "d86bbff1",
   "metadata": {},
   "source": [
    "# Using Different Moves\n",
    "\n",
    "We allow users to select different Hamiltonian & Vanilla moves.\n",
    "You can access such moves in `hemcee.moves.hamiltonian` and `hemcee.moves.vanilla`.\n",
    "\n",
    "We find the best performance with the `walk_move` in both the Hamiltonian and Vanilla settings, so we have the samplers default to them."
   ]
  },
  {
   "cell_type": "code",
   "execution_count": 1,
   "id": "9286a497",
   "metadata": {},
   "outputs": [],
   "source": [
    "import hemcee\n",
    "import jax\n",
    "import jax.numpy as jnp"
   ]
  },
  {
   "cell_type": "markdown",
   "id": "65423b2b",
   "metadata": {},
   "source": [
    "Here we make a test example, a highly skewed Gaussian"
   ]
  },
  {
   "cell_type": "code",
   "execution_count": 4,
   "id": "508f9534",
   "metadata": {},
   "outputs": [],
   "source": [
    "from hemcee.tests.distribution import make_gaussian_skewed\n",
    "\n",
    "key = jax.random.PRNGKey(0)\n",
    "dim = 10\n",
    "cond_number = 1000\n",
    "\n",
    "log_prob = make_gaussian_skewed(key, dim, cond_number)"
   ]
  },
  {
   "cell_type": "markdown",
   "id": "49bae188",
   "metadata": {},
   "source": [
    "Here's your options for Hamiltonian moves, and how to change them!"
   ]
  },
  {
   "cell_type": "code",
   "execution_count": 5,
   "id": "b04a991d",
   "metadata": {},
   "outputs": [],
   "source": [
    "from hemcee.moves.hamiltonian.hmc_walk import hmc_walk_move\n",
    "from hemcee.moves.hamiltonian.hmc_side import hmc_side_move"
   ]
  },
  {
   "cell_type": "code",
   "execution_count": 6,
   "id": "8966890e",
   "metadata": {},
   "outputs": [
    {
     "name": "stdout",
     "output_type": "stream",
     "text": [
      "Using 40 total chains: Group 1 (20), Group 2 (20)\n",
      "Integrated autocorrelation time:\n",
      "[1.3700383 1.3753891 1.3692183 1.3724241 1.3790314 1.364594  1.3714349\n",
      " 1.3645306 1.3705964 1.3662345]\n"
     ]
    }
   ],
   "source": [
    "total_chains = dim * 4\n",
    "\n",
    "sampler = hemcee.HamiltonianEnsembleSampler(\n",
    "    total_chains= total_chains,\n",
    "    dim=dim,\n",
    "    log_prob=log_prob,\n",
    "    move=hmc_walk_move # <- Plug and play different moves here!\n",
    ")  \n",
    "\n",
    "keys = jax.random.split(key, 2)\n",
    "inital_states = jax.random.normal(keys[0], shape=(total_chains, dim))\n",
    "\n",
    "samples = sampler.run_mcmc(\n",
    "    key=keys[1],\n",
    "    initial_state=inital_states,\n",
    "    num_samples=10**5,\n",
    "    warmup=10**5,\n",
    ")\n",
    "\n",
    "# You can compare the performance of different moves \n",
    "# by computing the integrated autocorrelation time\n",
    "tau = hemcee.autocorr.integrated_time(samples)\n",
    "print('Integrated autocorrelation time:')\n",
    "print(tau)"
   ]
  },
  {
   "cell_type": "markdown",
   "id": "48b9fa24",
   "metadata": {},
   "source": [
    "The same syntax goes for Vanilla moves"
   ]
  },
  {
   "cell_type": "code",
   "execution_count": 7,
   "id": "d7dea99c",
   "metadata": {},
   "outputs": [],
   "source": [
    "from hemcee.moves.vanilla.walk import walk_move\n",
    "from hemcee.moves.vanilla.side import side_move\n",
    "from hemcee.moves.vanilla.stretch import stretch_move"
   ]
  },
  {
   "cell_type": "code",
   "execution_count": 8,
   "id": "cca30352",
   "metadata": {},
   "outputs": [
    {
     "name": "stdout",
     "output_type": "stream",
     "text": [
      "Using 40 total chains: Group 1 (20), Group 2 (20)\n",
      "Integrated autocorrelation time:\n",
      "[36.823833 37.407433 37.187393 36.25884  36.523792 38.95756  37.184566\n",
      " 38.007595 35.820908 39.53417 ]\n"
     ]
    }
   ],
   "source": [
    "sampler = hemcee.EnsembleSampler(\n",
    "    total_chains=total_chains,\n",
    "    dim=dim,\n",
    "    log_prob=log_prob,\n",
    "    move=walk_move # <- Plug and play different moves here!\n",
    ")\n",
    "\n",
    "keys = jax.random.split(key, 2)\n",
    "inital_states = jax.random.normal(keys[0], shape=(total_chains, dim))\n",
    "\n",
    "samples = sampler.run_mcmc(\n",
    "    key=keys[1],\n",
    "    initial_state=inital_states,\n",
    "    num_samples=10**5,\n",
    "    warmup=10**5,\n",
    ")\n",
    "\n",
    "tau = hemcee.autocorr.integrated_time(samples)\n",
    "print('Integrated autocorrelation time:')\n",
    "print(tau)\n"
   ]
  },
  {
   "cell_type": "code",
   "execution_count": null,
   "id": "66b158ed",
   "metadata": {},
   "outputs": [],
   "source": []
  }
 ],
 "metadata": {
  "kernelspec": {
   "display_name": "hemcee",
   "language": "python",
   "name": "python3"
  },
  "language_info": {
   "codemirror_mode": {
    "name": "ipython",
    "version": 3
   },
   "file_extension": ".py",
   "mimetype": "text/x-python",
   "name": "python",
   "nbconvert_exporter": "python",
   "pygments_lexer": "ipython3",
   "version": "3.9.23"
  }
 },
 "nbformat": 4,
 "nbformat_minor": 5
}
